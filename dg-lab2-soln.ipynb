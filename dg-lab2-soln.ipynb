{
 "cells": [
  {
   "cell_type": "code",
   "execution_count": 1,
   "metadata": {},
   "outputs": [],
   "source": [
    "import networkx as nx\n",
    "import matplotlib.pyplot as plt\n",
    "%matplotlib inline "
   ]
  },
  {
   "cell_type": "markdown",
   "metadata": {},
   "source": [
    "Data Gathering Lab 2\n",
    "--------------------\n",
    "\n",
    "Imports"
   ]
  },
  {
   "cell_type": "code",
   "execution_count": 2,
   "metadata": {},
   "outputs": [],
   "source": [
    "#%autoreload     # This is Jupyter notebook that will reload changed files\n",
    "from crawler import Crawler\n",
    "from crawler_state import CrawlerState\n",
    "from crawler_abst_api import CrawlerAbstractAPI\n",
    "from crawler_my_api import MyAPI\n",
    "from crawler_twitter_api import TwitterApi"
   ]
  },
  {
   "cell_type": "markdown",
   "metadata": {},
   "source": [
    "## Note on Nodes\n",
    "Nodes in the network have special bookkeeping attributes. These should not be changed. The content attributes will vary based on your specific application.\n",
    "### Bookkeeping Attributes\n",
    "- `id` -- attribute based on the order instantiated via the crawl. Note that it must be converted from a number to a string so that it can be read back in again from GraphML.\n",
    "- `_expanded` -- 1 if the nodes children have been generated\n",
    "- `_depth` -- the distance of this node from the origin node or nodes\n",
    "\n",
    "### Content Attributes\n",
    "It's a silly example where users have random names and associated random planets. Users are connected via a small number of randomly-generated tags.\n",
    "- `label` -- the name of the user (user nodes only) or the tag string (tag nodes only)\n",
    "- `planet` -- the planet the user is from (user nodes only)\n",
    "- `bipartite` -- will be 0 from users and 1 for tags\n"
   ]
  },
  {
   "cell_type": "markdown",
   "metadata": {},
   "source": [
    "# Tests for MyAPI\n",
    "Not very rigorous testing"
   ]
  },
  {
   "cell_type": "code",
   "execution_count": 3,
   "metadata": {},
   "outputs": [],
   "source": [
    "# api = MyAPI()\n",
    "api = TwitterApi()\n",
    "c = Crawler(2, api)"
   ]
  },
  {
   "cell_type": "code",
   "execution_count": 4,
   "metadata": {},
   "outputs": [
    {
     "name": "stdout",
     "output_type": "stream",
     "text": [
      "initial_node seems to be working\n"
     ]
    }
   ],
   "source": [
    "setup = api.initial_nodes()\n",
    "if setup[0][0] == '#TeamJB' and setup[0][1] == '100':\n",
    "    print('initial_node seems to be working')"
   ]
  },
  {
   "cell_type": "code",
   "execution_count": 5,
   "metadata": {},
   "outputs": [],
   "source": [
    "# names_query = api.make_names_url('#Foo Bar')\n",
    "# if names_query == 'http://josquin.cti.depaul.edu/~rburke/cgi-bin/get-users.py?q=%23Foo+Bar':\n",
    "#     print('make_names_url seems to be working')"
   ]
  },
  {
   "cell_type": "code",
   "execution_count": 6,
   "metadata": {},
   "outputs": [],
   "source": [
    "# tags_query = api.make_tags_url('John Doe')\n",
    "# if tags_query == 'https://api.twitter.com/1.1/search/tweets.json?q=John+Doe&result_type=recent&lang=en&count=100&max_id=':\n",
    "#     print('make_tags_url seems to be working')\n",
    "# tags_query"
   ]
  },
  {
   "cell_type": "code",
   "execution_count": 7,
   "metadata": {},
   "outputs": [
    {
     "ename": "KeyError",
     "evalue": "'planet'",
     "output_type": "error",
     "traceback": [
      "\u001b[1;31m---------------------------------------------------------------------------\u001b[0m",
      "\u001b[1;31mKeyError\u001b[0m                                  Traceback (most recent call last)",
      "\u001b[1;32m<ipython-input-7-6823c05be4f2>\u001b[0m in \u001b[0;36m<module>\u001b[1;34m()\u001b[0m\n\u001b[0;32m      1\u001b[0m \u001b[0muser_node\u001b[0m \u001b[1;33m=\u001b[0m \u001b[0mapi\u001b[0m\u001b[1;33m.\u001b[0m\u001b[0mmake_node_user\u001b[0m\u001b[1;33m(\u001b[0m\u001b[1;34m\"John Doe\"\u001b[0m\u001b[1;33m,\u001b[0m \u001b[1;34m\"Earth\"\u001b[0m\u001b[1;33m,\u001b[0m \u001b[1;36m1\u001b[0m\u001b[1;33m)\u001b[0m\u001b[1;33m\u001b[0m\u001b[0m\n\u001b[1;32m----> 2\u001b[1;33m \u001b[1;32mif\u001b[0m \u001b[0mc\u001b[0m\u001b[1;33m.\u001b[0m\u001b[0m_net\u001b[0m\u001b[1;33m.\u001b[0m\u001b[0mnodes\u001b[0m\u001b[1;33m[\u001b[0m\u001b[0muser_node\u001b[0m\u001b[1;33m]\u001b[0m\u001b[1;33m[\u001b[0m\u001b[1;34m'planet'\u001b[0m\u001b[1;33m]\u001b[0m \u001b[1;33m==\u001b[0m \u001b[1;34m\"Earth\"\u001b[0m\u001b[1;33m:\u001b[0m\u001b[1;33m\u001b[0m\u001b[0m\n\u001b[0m\u001b[0;32m      3\u001b[0m     \u001b[0mprint\u001b[0m\u001b[1;33m(\u001b[0m\u001b[1;34m'make_node_user seems to be working'\u001b[0m\u001b[1;33m)\u001b[0m\u001b[1;33m\u001b[0m\u001b[0m\n",
      "\u001b[1;31mKeyError\u001b[0m: 'planet'"
     ]
    }
   ],
   "source": [
    "user_node = api.make_node_user(\"John Doe\", \"Earth\", 1)\n",
    "if c._net.nodes[user_node]['planet'] == \"Earth\":\n",
    "    print('make_node_user seems to be working')"
   ]
  },
  {
   "cell_type": "code",
   "execution_count": null,
   "metadata": {},
   "outputs": [],
   "source": [
    "# tag_node = api.make_node_tag('#Foo Bar', 1)\n",
    "# if (c._net.nodes[tag_node]['label'] == '#Foo Bar'):\n",
    "#     print('make_node_tag seems to be working')"
   ]
  },
  {
   "cell_type": "code",
   "execution_count": null,
   "metadata": {},
   "outputs": [],
   "source": [
    "# result = api.execute_names_query('#Foo')\n",
    "# if result[0] and type(result[1] is list):\n",
    "#     print('execute_names_query seems to be working')"
   ]
  },
  {
   "cell_type": "code",
   "execution_count": null,
   "metadata": {},
   "outputs": [],
   "source": [
    "# result = api.execute_tags_query('#TeamJB')\n",
    "# print(result)\n",
    "# if result[0] and type(result[1] is list):\n",
    "#     print('execute_tags_query seems to be working')"
   ]
  },
  {
   "cell_type": "markdown",
   "metadata": {},
   "source": [
    "# For the Lab"
   ]
  },
  {
   "cell_type": "code",
   "execution_count": 8,
   "metadata": {},
   "outputs": [],
   "source": [
    "api = TwitterApi()\n",
    "# api = MyAPI()\n",
    "c = Crawler(3, api)\n",
    "c.initialize()"
   ]
  },
  {
   "cell_type": "code",
   "execution_count": 9,
   "metadata": {},
   "outputs": [
    {
     "name": "stdout",
     "output_type": "stream",
     "text": [
      "Expanding node: 100\n",
      "Expanding node: 101\n"
     ]
    },
    {
     "data": {
      "text/plain": [
       "True"
      ]
     },
     "execution_count": 9,
     "metadata": {},
     "output_type": "execute_result"
    }
   ],
   "source": [
    "c.crawl_k(2)"
   ]
  },
  {
   "cell_type": "code",
   "execution_count": 10,
   "metadata": {},
   "outputs": [
    {
     "data": {
      "image/png": "[encoded data removed]",
      "text/plain": [
       "<Figure size 432x288 with 1 Axes>"
      ]
     },
     "metadata": {},
     "output_type": "display_data"
    }
   ],
   "source": [
    "nx.draw(c._net, with_labels=True)"
   ]
  },
  {
   "cell_type": "code",
   "execution_count": 11,
   "metadata": {},
   "outputs": [
    {
     "data": {
      "text/plain": [
       "deque(['102',\n",
       "       '103',\n",
       "       '104',\n",
       "       '105',\n",
       "       '106',\n",
       "       '107',\n",
       "       '108',\n",
       "       '109',\n",
       "       '110',\n",
       "       '111',\n",
       "       '112',\n",
       "       '113',\n",
       "       '114',\n",
       "       '115',\n",
       "       '116',\n",
       "       '117',\n",
       "       '118',\n",
       "       '119',\n",
       "       '120',\n",
       "       '121'])"
      ]
     },
     "execution_count": 11,
     "metadata": {},
     "output_type": "execute_result"
    }
   ],
   "source": [
    "c._state._open"
   ]
  },
  {
   "cell_type": "code",
   "execution_count": 12,
   "metadata": {},
   "outputs": [
    {
     "data": {
      "text/plain": [
       "[('100', {'label': '#TeamJB', 'bipartite': 1, '_depth': 0, '_expanded': 1}),\n",
       " ('101',\n",
       "  {'label': '#TeamRauner', 'bipartite': 1, '_depth': 0, '_expanded': 1}),\n",
       " ('102',\n",
       "  {'label': 'IllinoisforKash',\n",
       "   'bipartite': 0,\n",
       "   '_depth': 1,\n",
       "   '_expanded': 0,\n",
       "   'tag': '#TeamJB'}),\n",
       " ('103',\n",
       "  {'label': 'michaelgmangan',\n",
       "   'bipartite': 0,\n",
       "   '_depth': 1,\n",
       "   '_expanded': 0,\n",
       "   'tag': '#TeamJB'}),\n",
       " ('104',\n",
       "  {'label': 'toreycahn',\n",
       "   'bipartite': 0,\n",
       "   '_depth': 1,\n",
       "   '_expanded': 0,\n",
       "   'tag': '#TeamJB'}),\n",
       " ('105',\n",
       "  {'label': 'MartinVTorres',\n",
       "   'bipartite': 0,\n",
       "   '_depth': 1,\n",
       "   '_expanded': 0,\n",
       "   'tag': '#TeamJB'}),\n",
       " ('106',\n",
       "  {'label': 'MartinVTorres',\n",
       "   'bipartite': 0,\n",
       "   '_depth': 1,\n",
       "   '_expanded': 0,\n",
       "   'tag': '#TeamJB'}),\n",
       " ('107',\n",
       "  {'label': 'IllinoisforKash',\n",
       "   'bipartite': 0,\n",
       "   '_depth': 1,\n",
       "   '_expanded': 0,\n",
       "   'tag': '#TeamJB'}),\n",
       " ('108',\n",
       "  {'label': 'clearlytlc',\n",
       "   'bipartite': 0,\n",
       "   '_depth': 1,\n",
       "   '_expanded': 0,\n",
       "   'tag': '#TeamJB'}),\n",
       " ('109',\n",
       "  {'label': 'NPemZ',\n",
       "   'bipartite': 0,\n",
       "   '_depth': 1,\n",
       "   '_expanded': 0,\n",
       "   'tag': '#TeamJB'}),\n",
       " ('110',\n",
       "  {'label': 'fidelrecruits',\n",
       "   'bipartite': 0,\n",
       "   '_depth': 1,\n",
       "   '_expanded': 0,\n",
       "   'tag': '#TeamJB'}),\n",
       " ('111',\n",
       "  {'label': 'fidelrecruits',\n",
       "   'bipartite': 0,\n",
       "   '_depth': 1,\n",
       "   '_expanded': 0,\n",
       "   'tag': '#TeamJB'}),\n",
       " ('112',\n",
       "  {'label': 'wimvisscher777',\n",
       "   'bipartite': 0,\n",
       "   '_depth': 1,\n",
       "   '_expanded': 0,\n",
       "   'tag': '#TeamRauner'}),\n",
       " ('113',\n",
       "  {'label': 'AssyrianGOP',\n",
       "   'bipartite': 0,\n",
       "   '_depth': 1,\n",
       "   '_expanded': 0,\n",
       "   'tag': '#TeamRauner'}),\n",
       " ('114',\n",
       "  {'label': 'BrianB_GOP',\n",
       "   'bipartite': 0,\n",
       "   '_depth': 1,\n",
       "   '_expanded': 0,\n",
       "   'tag': '#TeamRauner'}),\n",
       " ('115',\n",
       "  {'label': 'Joshdewitt11',\n",
       "   'bipartite': 0,\n",
       "   '_depth': 1,\n",
       "   '_expanded': 0,\n",
       "   'tag': '#TeamRauner'}),\n",
       " ('116',\n",
       "  {'label': 'native4trump',\n",
       "   'bipartite': 0,\n",
       "   '_depth': 1,\n",
       "   '_expanded': 0,\n",
       "   'tag': '#TeamRauner'}),\n",
       " ('117',\n",
       "  {'label': 'sc08960854',\n",
       "   'bipartite': 0,\n",
       "   '_depth': 1,\n",
       "   '_expanded': 0,\n",
       "   'tag': '#TeamRauner'}),\n",
       " ('118',\n",
       "  {'label': 'Daisy49103',\n",
       "   'bipartite': 0,\n",
       "   '_depth': 1,\n",
       "   '_expanded': 0,\n",
       "   'tag': '#TeamRauner'}),\n",
       " ('119',\n",
       "  {'label': 'americageddon',\n",
       "   'bipartite': 0,\n",
       "   '_depth': 1,\n",
       "   '_expanded': 0,\n",
       "   'tag': '#TeamRauner'}),\n",
       " ('120',\n",
       "  {'label': 'HBronnenberg2',\n",
       "   'bipartite': 0,\n",
       "   '_depth': 1,\n",
       "   '_expanded': 0,\n",
       "   'tag': '#TeamRauner'}),\n",
       " ('121',\n",
       "  {'label': 'AmericaFirst150',\n",
       "   'bipartite': 0,\n",
       "   '_depth': 1,\n",
       "   '_expanded': 0,\n",
       "   'tag': '#TeamRauner'})]"
      ]
     },
     "execution_count": 12,
     "metadata": {},
     "output_type": "execute_result"
    }
   ],
   "source": [
    "list(c._net.nodes(data=True))"
   ]
  },
  {
   "cell_type": "code",
   "execution_count": 13,
   "metadata": {},
   "outputs": [
    {
     "data": {
      "text/plain": [
       "{'IllinoisforKash': '107',\n",
       " 'michaelgmangan': '103',\n",
       " 'toreycahn': '104',\n",
       " 'MartinVTorres': '106',\n",
       " 'clearlytlc': '108',\n",
       " 'NPemZ': '109',\n",
       " 'fidelrecruits': '111',\n",
       " 'wimvisscher777': '112',\n",
       " 'AssyrianGOP': '113',\n",
       " 'BrianB_GOP': '114',\n",
       " 'Joshdewitt11': '115',\n",
       " 'native4trump': '116',\n",
       " 'sc08960854': '117',\n",
       " 'Daisy49103': '118',\n",
       " 'americageddon': '119',\n",
       " 'HBronnenberg2': '120',\n",
       " 'AmericaFirst150': '121'}"
      ]
     },
     "execution_count": 13,
     "metadata": {},
     "output_type": "execute_result"
    }
   ],
   "source": [
    "c._state._visited0"
   ]
  },
  {
   "cell_type": "code",
   "execution_count": 14,
   "metadata": {},
   "outputs": [
    {
     "data": {
      "text/plain": [
       "{'#TeamJB': '100', '#TeamRauner': '101'}"
      ]
     },
     "execution_count": 14,
     "metadata": {},
     "output_type": "execute_result"
    }
   ],
   "source": [
    "c._state._visited1"
   ]
  },
  {
   "cell_type": "code",
   "execution_count": 15,
   "metadata": {},
   "outputs": [
    {
     "data": {
      "text/plain": [
       "22"
      ]
     },
     "execution_count": 15,
     "metadata": {},
     "output_type": "execute_result"
    }
   ],
   "source": [
    "c.to_files(\"out.graphml\", \"out.json\")\n",
    "len(c._net.nodes())"
   ]
  },
  {
   "cell_type": "code",
   "execution_count": 16,
   "metadata": {},
   "outputs": [],
   "source": [
    "c2 = Crawler(5, api)\n",
    "c2.from_files(\"out.graphml\", \"out.json\")"
   ]
  },
  {
   "cell_type": "code",
   "execution_count": 17,
   "metadata": {},
   "outputs": [
    {
     "name": "stdout",
     "output_type": "stream",
     "text": [
      "Expanding node: 102\n",
      "Expanding node: 103\n",
      "Expanding node: 104\n",
      "Expanding node: 105\n",
      "Expanding node: 106\n",
      "Expanding node: 107\n",
      "Expanding node: 108\n",
      "Expanding node: 109\n",
      "Expanding node: 110\n",
      "Expanding node: 111\n",
      "Expanding node: 112\n",
      "Expanding node: 113\n",
      "Expanding node: 114\n",
      "Expanding node: 115\n",
      "Expanding node: 116\n"
     ]
    },
    {
     "data": {
      "text/plain": [
       "True"
      ]
     },
     "execution_count": 17,
     "metadata": {},
     "output_type": "execute_result"
    }
   ],
   "source": [
    "c2.crawl_k(15)"
   ]
  },
  {
   "cell_type": "code",
   "execution_count": 18,
   "metadata": {},
   "outputs": [
    {
     "data": {
      "text/plain": [
       "[('100', {'label': '#TeamJB', 'bipartite': 1, '_depth': 0, '_expanded': 1}),\n",
       " ('101',\n",
       "  {'label': '#TeamRauner', 'bipartite': 1, '_depth': 0, '_expanded': 1}),\n",
       " ('102',\n",
       "  {'label': 'IllinoisforKash',\n",
       "   'bipartite': 0,\n",
       "   '_depth': 1,\n",
       "   '_expanded': 1,\n",
       "   'tag': '#TeamJB'}),\n",
       " ('103',\n",
       "  {'label': 'michaelgmangan',\n",
       "   'bipartite': 0,\n",
       "   '_depth': 1,\n",
       "   '_expanded': 1,\n",
       "   'tag': '#TeamJB'}),\n",
       " ('104',\n",
       "  {'label': 'toreycahn',\n",
       "   'bipartite': 0,\n",
       "   '_depth': 1,\n",
       "   '_expanded': 1,\n",
       "   'tag': '#TeamJB'}),\n",
       " ('105',\n",
       "  {'label': 'MartinVTorres',\n",
       "   'bipartite': 0,\n",
       "   '_depth': 1,\n",
       "   '_expanded': 1,\n",
       "   'tag': '#TeamJB'}),\n",
       " ('106',\n",
       "  {'label': 'MartinVTorres',\n",
       "   'bipartite': 0,\n",
       "   '_depth': 1,\n",
       "   '_expanded': 1,\n",
       "   'tag': '#TeamJB'}),\n",
       " ('107',\n",
       "  {'label': 'IllinoisforKash',\n",
       "   'bipartite': 0,\n",
       "   '_depth': 1,\n",
       "   '_expanded': 1,\n",
       "   'tag': '#TeamJB'}),\n",
       " ('108',\n",
       "  {'label': 'clearlytlc',\n",
       "   'bipartite': 0,\n",
       "   '_depth': 1,\n",
       "   '_expanded': 1,\n",
       "   'tag': '#TeamJB'}),\n",
       " ('109',\n",
       "  {'label': 'NPemZ',\n",
       "   'bipartite': 0,\n",
       "   '_depth': 1,\n",
       "   '_expanded': 1,\n",
       "   'tag': '#TeamJB'}),\n",
       " ('110',\n",
       "  {'label': 'fidelrecruits',\n",
       "   'bipartite': 0,\n",
       "   '_depth': 1,\n",
       "   '_expanded': 1,\n",
       "   'tag': '#TeamJB'}),\n",
       " ('111',\n",
       "  {'label': 'fidelrecruits',\n",
       "   'bipartite': 0,\n",
       "   '_depth': 1,\n",
       "   '_expanded': 1,\n",
       "   'tag': '#TeamJB'}),\n",
       " ('112',\n",
       "  {'label': 'wimvisscher777',\n",
       "   'bipartite': 0,\n",
       "   '_depth': 1,\n",
       "   '_expanded': 1,\n",
       "   'tag': '#TeamRauner'}),\n",
       " ('113',\n",
       "  {'label': 'AssyrianGOP',\n",
       "   'bipartite': 0,\n",
       "   '_depth': 1,\n",
       "   '_expanded': 1,\n",
       "   'tag': '#TeamRauner'}),\n",
       " ('114',\n",
       "  {'label': 'BrianB_GOP',\n",
       "   'bipartite': 0,\n",
       "   '_depth': 1,\n",
       "   '_expanded': 1,\n",
       "   'tag': '#TeamRauner'}),\n",
       " ('115',\n",
       "  {'label': 'Joshdewitt11',\n",
       "   'bipartite': 0,\n",
       "   '_depth': 1,\n",
       "   '_expanded': 1,\n",
       "   'tag': '#TeamRauner'}),\n",
       " ('116',\n",
       "  {'label': 'native4trump',\n",
       "   'bipartite': 0,\n",
       "   '_depth': 1,\n",
       "   '_expanded': 1,\n",
       "   'tag': '#TeamRauner'}),\n",
       " ('117',\n",
       "  {'label': 'sc08960854',\n",
       "   'bipartite': 0,\n",
       "   '_depth': 1,\n",
       "   '_expanded': 0,\n",
       "   'tag': '#TeamRauner'}),\n",
       " ('118',\n",
       "  {'label': 'Daisy49103',\n",
       "   'bipartite': 0,\n",
       "   '_depth': 1,\n",
       "   '_expanded': 0,\n",
       "   'tag': '#TeamRauner'}),\n",
       " ('119',\n",
       "  {'label': 'americageddon',\n",
       "   'bipartite': 0,\n",
       "   '_depth': 1,\n",
       "   '_expanded': 0,\n",
       "   'tag': '#TeamRauner'}),\n",
       " ('120',\n",
       "  {'label': 'HBronnenberg2',\n",
       "   'bipartite': 0,\n",
       "   '_depth': 1,\n",
       "   '_expanded': 0,\n",
       "   'tag': '#TeamRauner'}),\n",
       " ('121',\n",
       "  {'label': 'AmericaFirst150',\n",
       "   'bipartite': 0,\n",
       "   '_depth': 1,\n",
       "   '_expanded': 0,\n",
       "   'tag': '#TeamRauner'}),\n",
       " ('122',\n",
       "  {'label': 'GetAWarrant', 'bipartite': 1, '_depth': 2, '_expanded': 0}),\n",
       " ('123', {'label': 'TeamJB', 'bipartite': 1, '_depth': 2, '_expanded': 0}),\n",
       " ('124', {'label': 'TeamJB', 'bipartite': 1, '_depth': 2, '_expanded': 0}),\n",
       " ('125', {'label': 'TeamJB', 'bipartite': 1, '_depth': 2, '_expanded': 0}),\n",
       " ('126',\n",
       "  {'label': 'EarlyVoting', 'bipartite': 1, '_depth': 2, '_expanded': 0}),\n",
       " ('127', {'label': 'twill', 'bipartite': 1, '_depth': 2, '_expanded': 0}),\n",
       " ('128', {'label': 'TeamJB', 'bipartite': 1, '_depth': 2, '_expanded': 0}),\n",
       " ('129', {'label': 'Pritzker', 'bipartite': 1, '_depth': 2, '_expanded': 0}),\n",
       " ('130', {'label': 'Raoul', 'bipartite': 1, '_depth': 2, '_expanded': 0}),\n",
       " ('131', {'label': 'TeamJB', 'bipartite': 1, '_depth': 2, '_expanded': 0}),\n",
       " ('132', {'label': '7days', 'bipartite': 1, '_depth': 2, '_expanded': 0}),\n",
       " ('133', {'label': 'TeamJB', 'bipartite': 1, '_depth': 2, '_expanded': 0}),\n",
       " ('134', {'label': 'Pritzker', 'bipartite': 1, '_depth': 2, '_expanded': 0}),\n",
       " ('135', {'label': 'Raoul', 'bipartite': 1, '_depth': 2, '_expanded': 0}),\n",
       " ('136', {'label': 'TeamJB', 'bipartite': 1, '_depth': 2, '_expanded': 0}),\n",
       " ('137',\n",
       "  {'label': 'Libertarian', 'bipartite': 1, '_depth': 2, '_expanded': 0}),\n",
       " ('138', {'label': 'Veteran', 'bipartite': 1, '_depth': 2, '_expanded': 0}),\n",
       " ('139', {'label': 'TeamRauner', 'bipartite': 1, '_depth': 2, '_expanded': 0}),\n",
       " ('140', {'label': 'BackBruce', 'bipartite': 1, '_depth': 2, '_expanded': 0}),\n",
       " ('141', {'label': 'chicago', 'bipartite': 1, '_depth': 2, '_expanded': 0}),\n",
       " ('142',\n",
       "  {'label': 'Libertarian', 'bipartite': 1, '_depth': 2, '_expanded': 0}),\n",
       " ('143', {'label': 'Veteran', 'bipartite': 1, '_depth': 2, '_expanded': 0}),\n",
       " ('144',\n",
       "  {'label': 'Libertarian', 'bipartite': 1, '_depth': 2, '_expanded': 0}),\n",
       " ('145', {'label': 'Veteran', 'bipartite': 1, '_depth': 2, '_expanded': 0}),\n",
       " ('146',\n",
       "  {'label': 'Libertarian', 'bipartite': 1, '_depth': 2, '_expanded': 0}),\n",
       " ('147',\n",
       "  {'label': 'Libertarian', 'bipartite': 1, '_depth': 2, '_expanded': 0}),\n",
       " ('148', {'label': 'Veteran', 'bipartite': 1, '_depth': 2, '_expanded': 0}),\n",
       " ('149',\n",
       "  {'label': 'Libertarian', 'bipartite': 1, '_depth': 2, '_expanded': 0}),\n",
       " ('150', {'label': 'Veteran', 'bipartite': 1, '_depth': 2, '_expanded': 0}),\n",
       " ('151',\n",
       "  {'label': 'Libertarian', 'bipartite': 1, '_depth': 2, '_expanded': 0}),\n",
       " ('152', {'label': 'Veteran', 'bipartite': 1, '_depth': 2, '_expanded': 0})]"
      ]
     },
     "execution_count": 18,
     "metadata": {},
     "output_type": "execute_result"
    }
   ],
   "source": [
    "list(c2._net.nodes(data=True))"
   ]
  },
  {
   "cell_type": "code",
   "execution_count": 20,
   "metadata": {},
   "outputs": [
    {
     "data": {
      "text/plain": [
       "53"
      ]
     },
     "execution_count": 20,
     "metadata": {},
     "output_type": "execute_result"
    }
   ],
   "source": [
    "len(c2._net.nodes())"
   ]
  },
  {
   "cell_type": "code",
   "execution_count": 21,
   "metadata": {},
   "outputs": [
    {
     "data": {
      "image/png": "[encoded data removed]",
      "text/plain": [
       "<Figure size 432x288 with 1 Axes>"
      ]
     },
     "metadata": {},
     "output_type": "display_data"
    }
   ],
   "source": [
    "nx.draw(c2._net, with_labels=True)"
   ]
  },
  {
   "cell_type": "code",
   "execution_count": 22,
   "metadata": {},
   "outputs": [
    {
     "data": {
      "text/plain": [
       "['#TeamJB',\n",
       " '#TeamRauner',\n",
       " 'IllinoisforKash',\n",
       " 'michaelgmangan',\n",
       " 'toreycahn',\n",
       " 'MartinVTorres',\n",
       " 'MartinVTorres',\n",
       " 'IllinoisforKash',\n",
       " 'clearlytlc',\n",
       " 'NPemZ',\n",
       " 'fidelrecruits',\n",
       " 'fidelrecruits',\n",
       " 'wimvisscher777',\n",
       " 'AssyrianGOP',\n",
       " 'BrianB_GOP',\n",
       " 'Joshdewitt11',\n",
       " 'native4trump',\n",
       " 'sc08960854',\n",
       " 'Daisy49103',\n",
       " 'americageddon',\n",
       " 'HBronnenberg2',\n",
       " 'AmericaFirst150',\n",
       " 'GetAWarrant',\n",
       " 'TeamJB',\n",
       " 'TeamJB',\n",
       " 'TeamJB',\n",
       " 'EarlyVoting',\n",
       " 'twill',\n",
       " 'TeamJB',\n",
       " 'Pritzker',\n",
       " 'Raoul',\n",
       " 'TeamJB',\n",
       " '7days',\n",
       " 'TeamJB',\n",
       " 'Pritzker',\n",
       " 'Raoul',\n",
       " 'TeamJB',\n",
       " 'Libertarian',\n",
       " 'Veteran',\n",
       " 'TeamRauner',\n",
       " 'BackBruce',\n",
       " 'chicago',\n",
       " 'Libertarian',\n",
       " 'Veteran',\n",
       " 'Libertarian',\n",
       " 'Veteran',\n",
       " 'Libertarian',\n",
       " 'Libertarian',\n",
       " 'Veteran',\n",
       " 'Libertarian',\n",
       " 'Veteran',\n",
       " 'Libertarian',\n",
       " 'Veteran']"
      ]
     },
     "execution_count": 22,
     "metadata": {},
     "output_type": "execute_result"
    }
   ],
   "source": [
    "labels = [data['label'] for node, data in c2._net.nodes(data=True)]\n",
    "labels"
   ]
  },
  {
   "cell_type": "code",
   "execution_count": null,
   "metadata": {},
   "outputs": [],
   "source": [
    "c3 = Crawler(3, api)\n",
    "c3.initialize()\n",
    "c3.set_autosave(5, \"save/\")"
   ]
  },
  {
   "cell_type": "code",
   "execution_count": null,
   "metadata": {},
   "outputs": [],
   "source": [
    "c3.crawl_k(10)"
   ]
  },
  {
   "cell_type": "code",
   "execution_count": null,
   "metadata": {},
   "outputs": [],
   "source": []
  },
  {
   "cell_type": "code",
   "execution_count": null,
   "metadata": {},
   "outputs": [],
   "source": []
  }
 ],
 "metadata": {
  "anaconda-cloud": {},
  "kernelspec": {
   "display_name": "Python 3",
   "language": "python",
   "name": "python3"
  },
  "language_info": {
   "codemirror_mode": {
    "name": "ipython",
    "version": 3
   },
   "file_extension": ".py",
   "mimetype": "text/x-python",
   "name": "python",
   "nbconvert_exporter": "python",
   "pygments_lexer": "ipython3",
   "version": "3.6.5"
  }
 },
 "nbformat": 4,
 "nbformat_minor": 1
}
