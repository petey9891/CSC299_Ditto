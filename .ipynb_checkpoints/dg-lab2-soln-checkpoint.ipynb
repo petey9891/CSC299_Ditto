{
 "cells": [
  {
   "cell_type": "code",
   "execution_count": 1,
   "metadata": {},
   "outputs": [],
   "source": [
    "import networkx as nx\n",
    "import matplotlib.pyplot as plt\n",
    "%matplotlib inline \n",
    "%load_ext autoreload\n",
    "%autoreload"
   ]
  },
  {
   "cell_type": "markdown",
   "metadata": {},
   "source": [
    "Data Gathering Lab 2\n",
    "--------------------\n",
    "\n",
    "Imports"
   ]
  },
  {
   "cell_type": "code",
   "execution_count": 2,
   "metadata": {},
   "outputs": [],
   "source": [
    "#%autoreload     # This is Jupyter notebook that will reload changed files\n",
    "from crawler import Crawler\n",
    "from crawler_state import CrawlerState\n",
    "from crawler_abst_api import CrawlerAbstractAPI\n",
    "from crawler_my_api import MyAPI\n",
    "from crawler_twitter_api import TwitterApi"
   ]
  },
  {
   "cell_type": "markdown",
   "metadata": {},
   "source": [
    "## Note on Nodes\n",
    "Nodes in the network have special bookkeeping attributes. These should not be changed. The content attributes will vary based on your specific application.\n",
    "### Bookkeeping Attributes\n",
    "- `id` -- attribute based on the order instantiated via the crawl. Note that it must be converted from a number to a string so that it can be read back in again from GraphML.\n",
    "- `_expanded` -- 1 if the nodes children have been generated\n",
    "- `_depth` -- the distance of this node from the origin node or nodes\n",
    "\n",
    "### Content Attributes\n",
    "It's a silly example where users have random names and associated random planets. Users are connected via a small number of randomly-generated tags.\n",
    "- `label` -- the name of the user (user nodes only) or the tag string (tag nodes only)\n",
    "- `planet` -- the planet the user is from (user nodes only)\n",
    "- `bipartite` -- will be 0 from users and 1 for tags\n"
   ]
  },
  {
   "cell_type": "markdown",
   "metadata": {},
   "source": [
    "# Tests for MyAPI\n",
    "Not very rigorous testing"
   ]
  },
  {
   "cell_type": "code",
   "execution_count": 3,
   "metadata": {},
   "outputs": [],
   "source": [
    "# api = MyAPI()\n",
    "api = TwitterApi()\n",
    "c = Crawler(2, api)"
   ]
  },
  {
   "cell_type": "code",
   "execution_count": 4,
   "metadata": {},
   "outputs": [],
   "source": [
    "setup = api.initial_nodes()\n",
    "if setup[0][0] == '#TeamJB' and setup[0][1] == '100':\n",
    "    print('initial_node seems to be working')"
   ]
  },
  {
   "cell_type": "code",
   "execution_count": 5,
   "metadata": {},
   "outputs": [],
   "source": [
    "# names_query = api.make_names_url('#Foo Bar')\n",
    "# if names_query == 'http://josquin.cti.depaul.edu/~rburke/cgi-bin/get-users.py?q=%23Foo+Bar':\n",
    "#     print('make_names_url seems to be working')"
   ]
  },
  {
   "cell_type": "code",
   "execution_count": 6,
   "metadata": {},
   "outputs": [],
   "source": [
    "# tags_query = api.make_tags_url('John Doe')\n",
    "# if tags_query == 'https://api.twitter.com/1.1/search/tweets.json?q=John+Doe&result_type=recent&lang=en&count=100&max_id=':\n",
    "#     print('make_tags_url seems to be working')\n",
    "# tags_query"
   ]
  },
  {
   "cell_type": "code",
   "execution_count": 7,
   "metadata": {},
   "outputs": [
    {
     "ename": "TypeError",
     "evalue": "make_node_user() missing 1 required positional argument: 'depth'",
     "output_type": "error",
     "traceback": [
      "\u001b[1;31m---------------------------------------------------------------------------\u001b[0m",
      "\u001b[1;31mTypeError\u001b[0m                                 Traceback (most recent call last)",
      "\u001b[1;32m<ipython-input-7-6823c05be4f2>\u001b[0m in \u001b[0;36m<module>\u001b[1;34m()\u001b[0m\n\u001b[1;32m----> 1\u001b[1;33m \u001b[0muser_node\u001b[0m \u001b[1;33m=\u001b[0m \u001b[0mapi\u001b[0m\u001b[1;33m.\u001b[0m\u001b[0mmake_node_user\u001b[0m\u001b[1;33m(\u001b[0m\u001b[1;34m\"John Doe\"\u001b[0m\u001b[1;33m,\u001b[0m \u001b[1;34m\"Earth\"\u001b[0m\u001b[1;33m,\u001b[0m \u001b[1;36m1\u001b[0m\u001b[1;33m)\u001b[0m\u001b[1;33m\u001b[0m\u001b[0m\n\u001b[0m\u001b[0;32m      2\u001b[0m \u001b[1;32mif\u001b[0m \u001b[0mc\u001b[0m\u001b[1;33m.\u001b[0m\u001b[0m_net\u001b[0m\u001b[1;33m.\u001b[0m\u001b[0mnodes\u001b[0m\u001b[1;33m[\u001b[0m\u001b[0muser_node\u001b[0m\u001b[1;33m]\u001b[0m\u001b[1;33m[\u001b[0m\u001b[1;34m'planet'\u001b[0m\u001b[1;33m]\u001b[0m \u001b[1;33m==\u001b[0m \u001b[1;34m\"Earth\"\u001b[0m\u001b[1;33m:\u001b[0m\u001b[1;33m\u001b[0m\u001b[0m\n\u001b[0;32m      3\u001b[0m     \u001b[0mprint\u001b[0m\u001b[1;33m(\u001b[0m\u001b[1;34m'make_node_user seems to be working'\u001b[0m\u001b[1;33m)\u001b[0m\u001b[1;33m\u001b[0m\u001b[0m\n",
      "\u001b[1;31mTypeError\u001b[0m: make_node_user() missing 1 required positional argument: 'depth'"
     ]
    }
   ],
   "source": [
    "user_node = api.make_node_user(\"John Doe\", \"Earth\", 1)\n",
    "if c._net.nodes[user_node]['planet'] == \"Earth\":\n",
    "    print('make_node_user seems to be working')"
   ]
  },
  {
   "cell_type": "code",
   "execution_count": null,
   "metadata": {},
   "outputs": [],
   "source": [
    "# tag_node = api.make_node_tag('#Foo Bar', 1)\n",
    "# if (c._net.nodes[tag_node]['label'] == '#Foo Bar'):\n",
    "#     print('make_node_tag seems to be working')"
   ]
  },
  {
   "cell_type": "code",
   "execution_count": null,
   "metadata": {},
   "outputs": [],
   "source": [
    "# result = api.execute_names_query('#Foo')\n",
    "# if result[0] and type(result[1] is list):\n",
    "#     print('execute_names_query seems to be working')"
   ]
  },
  {
   "cell_type": "code",
   "execution_count": null,
   "metadata": {},
   "outputs": [],
   "source": [
    "# result = api.execute_tags_query('#TeamJB')\n",
    "# print(result)\n",
    "# if result[0] and type(result[1] is list):\n",
    "#     print('execute_tags_query seems to be working')"
   ]
  },
  {
   "cell_type": "markdown",
   "metadata": {},
   "source": [
    "# For the Lab"
   ]
  },
  {
   "cell_type": "code",
   "execution_count": 8,
   "metadata": {},
   "outputs": [],
   "source": [
    "api = TwitterApi()\n",
    "# api = MyAPI()\n",
    "# c = Crawler(3, api)\n",
    "c = Crawler(5, api)\n",
    "\n",
    "c.initialize()"
   ]
  },
  {
   "cell_type": "code",
   "execution_count": 9,
   "metadata": {},
   "outputs": [
    {
     "name": "stdout",
     "output_type": "stream",
     "text": [
      "Expanding node: 100\n",
      "Expanding node: 101\n",
      "Expanding node: 102\n",
      "Expanding node: 103\n",
      "Expanding node: 104\n",
      "Expanding node: 105\n",
      "Expanding node: 106\n",
      "Expanding node: 107\n",
      "Expanding node: 108\n",
      "Expanding node: 109\n",
      "Expanding node: 110\n",
      "Expanding node: 111\n",
      "Expanding node: 112\n",
      "Expanding node: 113\n",
      "Expanding node: 114\n",
      "Expanding node: 115\n",
      "Expanding node: 116\n",
      "Expanding node: 117\n",
      "Expanding node: 118\n",
      "Expanding node: 119\n",
      "Expanding node: 120\n",
      "Expanding node: 121\n",
      "Expanding node: 122\n",
      "Expanding node: 123\n",
      "Expanding node: 124\n",
      "Expanding node: 125\n",
      "Expanding node: 126\n",
      "Expanding node: 127\n",
      "Expanding node: 128\n",
      "Expanding node: 129\n",
      "Expanding node: 130\n",
      "Expanding node: 131\n",
      "Expanding node: 132\n",
      "Expanding node: 133\n",
      "Expanding node: 134\n",
      "Expanding node: 135\n",
      "Expanding node: 136\n",
      "Expanding node: 137\n",
      "Expanding node: 138\n",
      "Expanding node: 139\n",
      "Expanding node: 140\n",
      "Expanding node: 141\n",
      "Expanding node: 142\n",
      "Expanding node: 143\n",
      "Expanding node: 144\n",
      "Expanding node: 145\n",
      "Expanding node: 146\n",
      "Expanding node: 147\n",
      "Expanding node: 148\n",
      "Expanding node: 149\n"
     ]
    },
    {
     "data": {
      "text/plain": [
       "True"
      ]
     },
     "execution_count": 9,
     "metadata": {},
     "output_type": "execute_result"
    }
   ],
   "source": [
    "# c.crawl_k(2)\n",
    "c.crawl_k(100)"
   ]
  },
  {
   "cell_type": "code",
   "execution_count": 10,
   "metadata": {},
   "outputs": [
    {
     "data": {
      "image/png": "[encoded data removed]",
      "text/plain": [
       "<Figure size 432x288 with 1 Axes>"
      ]
     },
     "metadata": {},
     "output_type": "display_data"
    }
   ],
   "source": [
    "nx.draw(c._net, with_labels=True)"
   ]
  },
  {
   "cell_type": "code",
   "execution_count": null,
   "metadata": {},
   "outputs": [],
   "source": [
    "c._state._open"
   ]
  },
  {
   "cell_type": "code",
   "execution_count": null,
   "metadata": {},
   "outputs": [],
   "source": [
    "list(c._net.nodes(data=True))"
   ]
  },
  {
   "cell_type": "code",
   "execution_count": null,
   "metadata": {},
   "outputs": [],
   "source": [
    "c._state._visited0"
   ]
  },
  {
   "cell_type": "code",
   "execution_count": null,
   "metadata": {},
   "outputs": [],
   "source": [
    "c._state._visited1"
   ]
  },
  {
   "cell_type": "code",
   "execution_count": 11,
   "metadata": {},
   "outputs": [
    {
     "data": {
      "text/plain": [
       "526"
      ]
     },
     "execution_count": 11,
     "metadata": {},
     "output_type": "execute_result"
    }
   ],
   "source": [
    "c.to_files(\"out.graphml\", \"out.json\")\n",
    "len(c._net.nodes())"
   ]
  },
  {
   "cell_type": "code",
   "execution_count": null,
   "metadata": {},
   "outputs": [],
   "source": [
    "c2 = Crawler(5, api)\n",
    "c2.from_files(\"out.graphml\", \"out.json\")"
   ]
  },
  {
   "cell_type": "code",
   "execution_count": null,
   "metadata": {},
   "outputs": [],
   "source": [
    "c2.crawl_k(15)"
   ]
  },
  {
   "cell_type": "code",
   "execution_count": null,
   "metadata": {},
   "outputs": [],
   "source": [
    "list(c2._net.nodes(data=True))"
   ]
  },
  {
   "cell_type": "code",
   "execution_count": null,
   "metadata": {},
   "outputs": [],
   "source": [
    "len(c2._net.nodes())"
   ]
  },
  {
   "cell_type": "code",
   "execution_count": null,
   "metadata": {},
   "outputs": [],
   "source": [
    "nx.draw(c2._net, with_labels=True)"
   ]
  },
  {
   "cell_type": "code",
   "execution_count": null,
   "metadata": {},
   "outputs": [],
   "source": [
    "labels = [data['label'] for node, data in c2._net.nodes(data=True)]\n",
    "labels"
   ]
  },
  {
   "cell_type": "code",
   "execution_count": null,
   "metadata": {},
   "outputs": [],
   "source": [
    "c3 = Crawler(3, api)\n",
    "c3.initialize()\n",
    "c3.set_autosave(5, \"save/\")"
   ]
  },
  {
   "cell_type": "code",
   "execution_count": null,
   "metadata": {},
   "outputs": [],
   "source": [
    "c3.crawl_k(10)"
   ]
  },
  {
   "cell_type": "code",
   "execution_count": null,
   "metadata": {},
   "outputs": [],
   "source": []
  },
  {
   "cell_type": "code",
   "execution_count": null,
   "metadata": {},
   "outputs": [],
   "source": []
  }
 ],
 "metadata": {
  "anaconda-cloud": {},
  "kernelspec": {
   "display_name": "Python 3",
   "language": "python",
   "name": "python3"
  },
  "language_info": {
   "codemirror_mode": {
    "name": "ipython",
    "version": 3
   },
   "file_extension": ".py",
   "mimetype": "text/x-python",
   "name": "python",
   "nbconvert_exporter": "python",
   "pygments_lexer": "ipython3",
   "version": "3.6.5"
  }
 },
 "nbformat": 4,
 "nbformat_minor": 1
}
