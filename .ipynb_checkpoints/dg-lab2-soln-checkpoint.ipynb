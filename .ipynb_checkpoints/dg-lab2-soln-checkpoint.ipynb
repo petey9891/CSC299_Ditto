{
 "cells": [
  {
   "cell_type": "code",
   "execution_count": 1,
   "metadata": {},
   "outputs": [],
   "source": [
    "import networkx as nx\n",
    "import matplotlib.pyplot as plt\n",
    "%matplotlib inline "
   ]
  },
  {
   "cell_type": "markdown",
   "metadata": {},
   "source": [
    "Data Gathering Lab 2\n",
    "--------------------\n",
    "\n",
    "Imports"
   ]
  },
  {
   "cell_type": "code",
   "execution_count": 3,
   "metadata": {},
   "outputs": [
    {
     "ename": "ModuleNotFoundError",
     "evalue": "No module named 'tweepy'",
     "output_type": "error",
     "traceback": [
      "\u001b[1;31m---------------------------------------------------------------------------\u001b[0m",
      "\u001b[1;31mModuleNotFoundError\u001b[0m                       Traceback (most recent call last)",
      "\u001b[1;32m<ipython-input-3-082be2a05cac>\u001b[0m in \u001b[0;36m<module>\u001b[1;34m()\u001b[0m\n\u001b[0;32m      1\u001b[0m \u001b[1;31m#%autoreload     # This is Jupyter notebook that will reload changed files\u001b[0m\u001b[1;33m\u001b[0m\u001b[1;33m\u001b[0m\u001b[0m\n\u001b[1;32m----> 2\u001b[1;33m \u001b[1;32mfrom\u001b[0m \u001b[0mcrawler\u001b[0m \u001b[1;32mimport\u001b[0m \u001b[0mCrawler\u001b[0m\u001b[1;33m\u001b[0m\u001b[0m\n\u001b[0m\u001b[0;32m      3\u001b[0m \u001b[1;32mfrom\u001b[0m \u001b[0mcrawler_state\u001b[0m \u001b[1;32mimport\u001b[0m \u001b[0mCrawlerState\u001b[0m\u001b[1;33m\u001b[0m\u001b[0m\n\u001b[0;32m      4\u001b[0m \u001b[1;32mfrom\u001b[0m \u001b[0mcrawler_abst_api\u001b[0m \u001b[1;32mimport\u001b[0m \u001b[0mCrawlerAbstractAPI\u001b[0m\u001b[1;33m\u001b[0m\u001b[0m\n\u001b[0;32m      5\u001b[0m \u001b[1;31m# from crawler_my_api import MyAPI\u001b[0m\u001b[1;33m\u001b[0m\u001b[1;33m\u001b[0m\u001b[0m\n",
      "\u001b[1;32m~\\git\\CSC299_Ditto\\crawler.py\u001b[0m in \u001b[0;36m<module>\u001b[1;34m()\u001b[0m\n\u001b[0;32m      2\u001b[0m \u001b[1;32mimport\u001b[0m \u001b[0margparse\u001b[0m\u001b[1;33m\u001b[0m\u001b[0m\n\u001b[0;32m      3\u001b[0m \u001b[1;32mfrom\u001b[0m \u001b[0mcrawler_my_api\u001b[0m \u001b[1;32mimport\u001b[0m \u001b[0mMyAPI\u001b[0m\u001b[1;33m\u001b[0m\u001b[0m\n\u001b[1;32m----> 4\u001b[1;33m \u001b[1;32mfrom\u001b[0m \u001b[0mcrawler_twitter_api\u001b[0m \u001b[1;32mimport\u001b[0m \u001b[0mTwitterApi\u001b[0m\u001b[1;33m\u001b[0m\u001b[0m\n\u001b[0m\u001b[0;32m      5\u001b[0m \u001b[1;32mfrom\u001b[0m \u001b[0mcrawler_state\u001b[0m \u001b[1;32mimport\u001b[0m \u001b[0mCrawlerState\u001b[0m\u001b[1;33m\u001b[0m\u001b[0m\n\u001b[0;32m      6\u001b[0m \u001b[1;33m\u001b[0m\u001b[0m\n",
      "\u001b[1;32m~\\git\\CSC299_Ditto\\crawler_twitter_api.py\u001b[0m in \u001b[0;36m<module>\u001b[1;34m()\u001b[0m\n\u001b[0;32m      2\u001b[0m \u001b[1;32mimport\u001b[0m \u001b[0murllib\u001b[0m\u001b[1;33m.\u001b[0m\u001b[0mrequest\u001b[0m\u001b[1;33m\u001b[0m\u001b[0m\n\u001b[0;32m      3\u001b[0m \u001b[1;32mimport\u001b[0m \u001b[0mjson\u001b[0m\u001b[1;33m\u001b[0m\u001b[0m\n\u001b[1;32m----> 4\u001b[1;33m \u001b[1;32mimport\u001b[0m \u001b[0mtweepy\u001b[0m\u001b[1;33m\u001b[0m\u001b[0m\n\u001b[0m\u001b[0;32m      5\u001b[0m \u001b[1;33m\u001b[0m\u001b[0m\n\u001b[0;32m      6\u001b[0m \u001b[1;32mfrom\u001b[0m \u001b[0mcrawler_abst_api\u001b[0m \u001b[1;32mimport\u001b[0m \u001b[0mCrawlerAbstractAPI\u001b[0m\u001b[1;33m\u001b[0m\u001b[0m\n",
      "\u001b[1;31mModuleNotFoundError\u001b[0m: No module named 'tweepy'"
     ]
    }
   ],
   "source": [
    "#%autoreload     # This is Jupyter notebook that will reload changed files\n",
    "from crawler import Crawler\n",
    "from crawler_state import CrawlerState\n",
    "from crawler_abst_api import CrawlerAbstractAPI\n",
    "# from crawler_my_api import MyAPI\n",
    "from crawler_twitter_api import TwitterApi"
   ]
  },
  {
   "cell_type": "markdown",
   "metadata": {},
   "source": [
    "## Note on Nodes\n",
    "Nodes in the network have special bookkeeping attributes. These should not be changed. The content attributes will vary based on your specific application.\n",
    "### Bookkeeping Attributes\n",
    "- `id` -- attribute based on the order instantiated via the crawl. Note that it must be converted from a number to a string so that it can be read back in again from GraphML.\n",
    "- `_expanded` -- 1 if the nodes children have been generated\n",
    "- `_depth` -- the distance of this node from the origin node or nodes\n",
    "\n",
    "### Content Attributes\n",
    "It's a silly example where users have random names and associated random planets. Users are connected via a small number of randomly-generated tags.\n",
    "- `label` -- the name of the user (user nodes only) or the tag string (tag nodes only)\n",
    "- `planet` -- the planet the user is from (user nodes only)\n",
    "- `bipartite` -- will be 0 from users and 1 for tags\n"
   ]
  },
  {
   "cell_type": "markdown",
   "metadata": {},
   "source": [
    "# Tests for MyAPI\n",
    "Not very rigorous testing"
   ]
  },
  {
   "cell_type": "code",
   "execution_count": null,
   "metadata": {},
   "outputs": [],
   "source": [
    "# api = MyAPI()\n",
    "api = TwitterApi()\n",
    "c = Crawler(2, api)"
   ]
  },
  {
   "cell_type": "code",
   "execution_count": null,
   "metadata": {},
   "outputs": [],
   "source": [
    "setup = api.initial_nodes()\n",
    "if setup[0][0] == '#TeamJB' and setup[0][1] == '100':\n",
    "    print('initial_node seems to be working')"
   ]
  },
  {
   "cell_type": "code",
   "execution_count": null,
   "metadata": {},
   "outputs": [],
   "source": [
    "# names_query = api.make_names_url('#Foo Bar')\n",
    "# if names_query == 'http://josquin.cti.depaul.edu/~rburke/cgi-bin/get-users.py?q=%23Foo+Bar':\n",
    "#     print('make_names_url seems to be working')"
   ]
  },
  {
   "cell_type": "code",
   "execution_count": null,
   "metadata": {},
   "outputs": [],
   "source": [
    "tags_query = api.make_tags_url('John Doe')\n",
    "if tags_query == 'https://api.twitter.com/1.1/search/tweets.json?q=John+Doe&result_type=recent&lang=en&count=100&max_id=':\n",
    "    print('make_tags_url seems to be working')\n",
    "tags_query"
   ]
  },
  {
   "cell_type": "code",
   "execution_count": null,
   "metadata": {},
   "outputs": [],
   "source": [
    "user_node = api.make_node_user(\"John Doe\", \"Earth\", 1)\n",
    "if c._net.nodes[user_node]['planet'] == \"Earth\":\n",
    "    print('make_node_user seems to be working')"
   ]
  },
  {
   "cell_type": "code",
   "execution_count": null,
   "metadata": {},
   "outputs": [],
   "source": [
    "tag_node = api.make_node_tag('#Foo Bar', 1)\n",
    "if (c._net.nodes[tag_node]['label'] == '#Foo Bar'):\n",
    "    print('make_node_tag seems to be working')"
   ]
  },
  {
   "cell_type": "code",
   "execution_count": null,
   "metadata": {},
   "outputs": [],
   "source": [
    "result = api.execute_names_query('#Foo')\n",
    "if result[0] and type(result[1] is list):\n",
    "    print('execute_names_query seems to be working')"
   ]
  },
  {
   "cell_type": "code",
   "execution_count": null,
   "metadata": {},
   "outputs": [],
   "source": [
    "result = api.execute_tags_query('John Doe')\n",
    "if result[0] and type(result[1] is list):\n",
    "    print('execute_tags_query seems to be working')"
   ]
  },
  {
   "cell_type": "markdown",
   "metadata": {},
   "source": [
    "# For the Lab"
   ]
  },
  {
   "cell_type": "code",
   "execution_count": null,
   "metadata": {},
   "outputs": [],
   "source": [
    "api = MyAPI()\n",
    "c = Crawler(3, api)\n",
    "c.initialize()"
   ]
  },
  {
   "cell_type": "code",
   "execution_count": null,
   "metadata": {},
   "outputs": [],
   "source": [
    "c.crawl_k(2)"
   ]
  },
  {
   "cell_type": "code",
   "execution_count": null,
   "metadata": {},
   "outputs": [],
   "source": [
    "nx.draw(c._net)"
   ]
  },
  {
   "cell_type": "code",
   "execution_count": null,
   "metadata": {},
   "outputs": [],
   "source": [
    "c._state._open"
   ]
  },
  {
   "cell_type": "code",
   "execution_count": null,
   "metadata": {},
   "outputs": [],
   "source": [
    "list(c._net.nodes(data=True))[1:5]"
   ]
  },
  {
   "cell_type": "code",
   "execution_count": null,
   "metadata": {},
   "outputs": [],
   "source": [
    "c._state._visited0"
   ]
  },
  {
   "cell_type": "code",
   "execution_count": null,
   "metadata": {},
   "outputs": [],
   "source": [
    "c._state._visited1"
   ]
  },
  {
   "cell_type": "code",
   "execution_count": null,
   "metadata": {},
   "outputs": [],
   "source": [
    "c.to_files(\"out.graphml\", \"out.json\")\n",
    "len(c._net.nodes())"
   ]
  },
  {
   "cell_type": "code",
   "execution_count": null,
   "metadata": {},
   "outputs": [],
   "source": [
    "c2 = Crawler(5, api)\n",
    "c2.from_files(\"out.graphml\", \"out.json\")"
   ]
  },
  {
   "cell_type": "code",
   "execution_count": null,
   "metadata": {},
   "outputs": [],
   "source": [
    "c2.crawl_k(15)"
   ]
  },
  {
   "cell_type": "code",
   "execution_count": null,
   "metadata": {},
   "outputs": [],
   "source": [
    "list(c2._net.nodes(data=True))"
   ]
  },
  {
   "cell_type": "code",
   "execution_count": null,
   "metadata": {},
   "outputs": [],
   "source": [
    "len(c2._net.nodes())"
   ]
  },
  {
   "cell_type": "code",
   "execution_count": null,
   "metadata": {},
   "outputs": [],
   "source": [
    "nx.draw(c2._net)"
   ]
  },
  {
   "cell_type": "code",
   "execution_count": null,
   "metadata": {},
   "outputs": [],
   "source": [
    "labels = [data['label'] for node, data in c2._net.nodes(data=True)]\n",
    "labels"
   ]
  },
  {
   "cell_type": "code",
   "execution_count": null,
   "metadata": {},
   "outputs": [],
   "source": [
    "c3 = Crawler(3, api)\n",
    "c3.initialize()\n",
    "c3.set_autosave(5, \"save/\")"
   ]
  },
  {
   "cell_type": "code",
   "execution_count": null,
   "metadata": {},
   "outputs": [],
   "source": [
    "c3.crawl_k(10)"
   ]
  },
  {
   "cell_type": "code",
   "execution_count": null,
   "metadata": {},
   "outputs": [],
   "source": []
  }
 ],
 "metadata": {
  "anaconda-cloud": {},
  "kernelspec": {
   "display_name": "Python 3",
   "language": "python",
   "name": "python3"
  },
  "language_info": {
   "codemirror_mode": {
    "name": "ipython",
    "version": 3
   },
   "file_extension": ".py",
   "mimetype": "text/x-python",
   "name": "python",
   "nbconvert_exporter": "python",
   "pygments_lexer": "ipython3",
   "version": "3.6.5"
  }
 },
 "nbformat": 4,
 "nbformat_minor": 1
}
